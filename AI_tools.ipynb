{
  "nbformat": 4,
  "nbformat_minor": 0,
  "metadata": {
    "kernelspec": {
      "display_name": "Python 3",
      "language": "python",
      "name": "python3"
    },
    "language_info": {
      "codemirror_mode": {
        "name": "ipython",
        "version": 3
      },
      "file_extension": ".py",
      "mimetype": "text/x-python",
      "name": "python",
      "nbconvert_exporter": "python",
      "pygments_lexer": "ipython3",
      "version": "3.8.3"
    },
    "colab": {
      "name": "AI_tools.ipynb",
      "provenance": []
    }
  },
  "cells": [
    {
      "cell_type": "code",
      "metadata": {
        "id": "LRABMgOzTpju"
      },
      "source": [
        "import numpy as np\n",
        "import pandas as pd\n",
        "import operator\n",
        "from sklearn.neighbors import KNeighborsClassifier\n",
        "from sklearn.model_selection  import cross_val_score\n",
        "import matplotlib.pyplot as plt\n",
        "from sklearn.metrics import accuracy_score\n",
        "from sklearn.model_selection import train_test_split\n",
        "\n",
        "#import data\n",
        "\n",
        "beijing = pd.read_csv(\"Beijing_labeled.csv\")\n",
        "shenyang = pd.read_csv(\"Shenyang_labeled.csv\")\n",
        "guangzhou = pd.read_csv(\"Guangzhou_labeled.csv\")\n",
        "shanghai = pd.read_csv(\"Shanghai_labeled.csv\")"
      ],
      "execution_count": null,
      "outputs": []
    },
    {
      "cell_type": "code",
      "metadata": {
        "id": "O2AlbZB7Tpjz",
        "outputId": "9edd6c58-43ae-4bb7-dd70-72cd3ec2fb5d"
      },
      "source": [
        "#create the training data\n",
        "\n",
        "traindata = beijing.append(shenyang)\n",
        "\n",
        "x = traindata.iloc[:, :-1].values\n",
        "y = traindata.iloc[:, -1].values\n",
        "\n",
        "train_x, validate_x, train_y, validate_y = train_test_split(x, y, test_size = 0.4)\n",
        "\n",
        "#determine the best k value using the existing knn by CrossValidation\n",
        "\n",
        "k_range = range(1, 200)\n",
        "k_error = []\n",
        "\n",
        "for k in k_range:\n",
        "    knn = KNeighborsClassifier(n_neighbors = k)\n",
        "    scores = cross_val_score(knn, x, y, scoring = 'accuracy')\n",
        "    k_error.append(1 - scores.mean())\n",
        "\n",
        "plt.plot(k_range, k_error)\n",
        "plt.xlabel('Value of K for KNN')\n",
        "plt.ylabel('Error')\n",
        "plt.show()"
      ],
      "execution_count": null,
      "outputs": [
        {
          "output_type": "display_data",
          "data": {
            "image/png": "[encoded data removed]",
            "text/plain": [
              "<Figure size 432x288 with 1 Axes>"
            ]
          },
          "metadata": {
            "tags": [],
            "needs_background": "light"
          }
        }
      ]
    },
    {
      "cell_type": "markdown",
      "metadata": {
        "id": "v0p4tLzkTpj2"
      },
      "source": [
        "According to the graph above, when k = 50, the error will be the least. We will then choose k = 50. "
      ]
    },
    {
      "cell_type": "code",
      "metadata": {
        "id": "N-ux8PQQTpj3"
      },
      "source": [
        "# create a new knn \n",
        "\n",
        "def e_dist(I1, I2):\n",
        "    \n",
        "    return np.sqrt(np.sum((I1 - I2)**2))\n",
        "\n",
        "class KNN():\n",
        "    \n",
        "    def __init__(self, K):\n",
        "        self.K = K\n",
        "        \n",
        "    def fit(self, x_train, y_train):\n",
        "        self.X_train = x_train\n",
        "        self.Y_train = y_train\n",
        "        \n",
        "    def predict(self, X_test):\n",
        "             \n",
        "        predictions = []\n",
        "                \n",
        "        for i in range(len(X_test)):            \n",
        "                   \n",
        "            dist = np.array([e_dist(X_test[i], x_t) for x_t in self.X_train])\n",
        "                      \n",
        "            dist_sorted = dist.argsort()[:self.K]\n",
        "            \n",
        "            n_neighbours = {}\n",
        "          \n",
        "            for j in dist_sorted:\n",
        "                \n",
        "                if self.Y_train[j] in n_neighbours:\n",
        "                     \n",
        "                    n_neighbours[self.Y_train[j]] += 1\n",
        "                    \n",
        "                else:\n",
        "                    \n",
        "                    n_neighbours[self.Y_train[j]] = 1\n",
        "            \n",
        "            sorted_n_neighbours = sorted(n_neighbours.items(), key = operator.itemgetter(1), reverse = True)\n",
        "            \n",
        "            predictions.append(sorted_n_neighbours[0][0])\n",
        "            \n",
        "        return predictions\n",
        "\n",
        "    def score(self, x, y):\n",
        "        \n",
        "        score = accuracy_score(self.predict(x), y)  \n",
        "        \n",
        "        return score"
      ],
      "execution_count": null,
      "outputs": []
    },
    {
      "cell_type": "code",
      "metadata": {
        "id": "TMm8JqaITpj5"
      },
      "source": [
        "#train the model\n",
        "\n",
        "knn = KNN(K = 50)\n",
        "knn.fit(train_x, train_y)\n"
      ],
      "execution_count": null,
      "outputs": []
    },
    {
      "cell_type": "code",
      "metadata": {
        "id": "oA_3kmlJTpj6",
        "outputId": "4fb0bb12-02cf-455a-863e-c08e5851d1af"
      },
      "source": [
        "predictions = knn.predict(validate_x)\n",
        "score = knn.score(validate_x, validate_y)\n",
        "print(score)"
      ],
      "execution_count": null,
      "outputs": [
        {
          "output_type": "stream",
          "text": [
            "0.7737478411053541\n"
          ],
          "name": "stdout"
        }
      ]
    },
    {
      "cell_type": "code",
      "metadata": {
        "id": "j749JbeJTpj7",
        "outputId": "ed3f0637-e1f2-47c7-941f-853d29f49058"
      },
      "source": [
        "test_x_1 = guangzhou.iloc[:, :-1].values\n",
        "test_y_1 = guangzhou.iloc[:, -1].values\n",
        "\n",
        "test_x_2 = shanghai.iloc[:, :-1].values\n",
        "test_y_2 = shanghai.iloc[:, -1].values\n",
        "\n",
        "predictions = knn.predict(test_x_1)\n",
        "score1 = knn.score(test_x_1, test_y_1)\n",
        "print(score1)"
      ],
      "execution_count": null,
      "outputs": [
        {
          "output_type": "stream",
          "text": [
            "0.6708579881656804\n"
          ],
          "name": "stdout"
        }
      ]
    },
    {
      "cell_type": "code",
      "metadata": {
        "id": "BsyQOoQnTpj9",
        "outputId": "62cbef45-5f48-42c4-9291-f04065cf1783"
      },
      "source": [
        "predictions = knn.predict(test_x_2)\n",
        "score2 = knn.score(test_x_2, test_y_2)\n",
        "print(score2)"
      ],
      "execution_count": null,
      "outputs": [
        {
          "output_type": "stream",
          "text": [
            "0.7905255366395263\n"
          ],
          "name": "stdout"
        }
      ]
    },
    {
      "cell_type": "code",
      "metadata": {
        "id": "Ir38uUnRTpj_"
      },
      "source": [
        ""
      ],
      "execution_count": null,
      "outputs": []
    }
  ]
}